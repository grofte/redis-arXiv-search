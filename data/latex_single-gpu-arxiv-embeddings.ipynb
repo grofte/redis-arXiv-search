{
 "cells": [
  {
   "cell_type": "markdown",
   "metadata": {
    "execution": {
     "iopub.execute_input": "2021-10-26T17:00:38.727567Z",
     "iopub.status.busy": "2021-10-26T17:00:38.727285Z",
     "iopub.status.idle": "2021-10-26T17:00:38.730682Z",
     "shell.execute_reply": "2021-10-26T17:00:38.730051Z",
     "shell.execute_reply.started": "2021-10-26T17:00:38.727541Z"
    }
   },
   "source": [
    "# arXiv Paper Embedding\n",
    "\n",
    "## On a Single GPU\n",
    "This notebook utilizes an NVIDIA T4 on Saturn Cloud."
   ]
  },
  {
   "cell_type": "code",
   "execution_count": 1,
   "metadata": {
    "execution": {
     "iopub.execute_input": "2022-11-04T18:33:25.758992Z",
     "iopub.status.busy": "2022-11-04T18:33:25.758588Z",
     "iopub.status.idle": "2022-11-04T18:33:26.558894Z",
     "shell.execute_reply": "2022-11-04T18:33:26.558356Z",
     "shell.execute_reply.started": "2022-11-04T18:33:25.758924Z"
    },
    "tags": []
   },
   "outputs": [],
   "source": [
    "import cudf\n",
    "import pandas as pd\n",
    "import json\n",
    "import os\n",
    "import re\n",
    "import string\n",
    "import pickle\n",
    "from pathlib import Path\n",
    "from typing import List\n",
    "\n",
    "DATA_PATH = \"arxiv-metadata-oai-snapshot.json\"\n",
    "YEAR_PATTERN = r\"(19|20[0-9]{2})\""
   ]
  },
  {
   "cell_type": "code",
   "execution_count": 2,
   "metadata": {
    "execution": {
     "iopub.execute_input": "2022-11-04T18:33:27.805752Z",
     "iopub.status.busy": "2022-11-04T18:33:27.805270Z",
     "iopub.status.idle": "2022-11-04T18:33:44.317540Z",
     "shell.execute_reply": "2022-11-04T18:33:44.316905Z",
     "shell.execute_reply.started": "2022-11-04T18:33:27.805725Z"
    },
    "tags": []
   },
   "outputs": [],
   "source": [
    "# Morten additions / overwrites\n",
    "\n",
    "# Used grep to sub-select those with id starting with 20 for 2020\n",
    "DATA_PATH = \"../../../arxiv/2020_arxiv-metadata-oai-snapshot.json\"\n",
    "TEX_EQ_PATH = \"./arxiv_src/\"\n",
    "ID_TEX = {}\n",
    "for path in Path(TEX_EQ_PATH).glob(\"*.json\"):\n",
    "    with open(path, 'r') as fp:\n",
    "        ID_TEX.update(json.load(fp))\n",
    "ID_TEX = {k: v for k, v in ID_TEX.items() if v}"
   ]
  },
  {
   "cell_type": "markdown",
   "metadata": {},
   "source": [
    "## Step 1: Data pre processing\n",
    "Before we do anything else, we need to load the papers dataset, do some basic cleaning, and get it into a workable format. Below,\n",
    "we will use CuDF to house the data and apply seom transformations in a generator, loading from file.\n",
    "\n",
    "Luckily, we are going to hack away the semantic search on abstracts and replace it with search on LaTeX math so we don't want to remove punctuation. To be honest the HuggingFace / Sbert tokenizer should be doing all the transformations the model was trained with. Unless you specifically know that your text is abnormal in some way it shouldn't be necessary to perform these transforms. There's some weirdness in our text with regard to escape characters and such but not enough to make the semantic search fail.\n",
    "\n",
    "We are also going to skip every paper where the LaTeX scraping came up empty-handed. Of course you wouldn't do that if you were building a search product to release."
   ]
  },
  {
   "cell_type": "code",
   "execution_count": 3,
   "metadata": {
    "execution": {
     "iopub.execute_input": "2022-11-04T18:33:49.196089Z",
     "iopub.status.busy": "2022-11-04T18:33:49.195709Z",
     "iopub.status.idle": "2022-11-04T18:33:49.199324Z",
     "shell.execute_reply": "2022-11-04T18:33:49.198799Z",
     "shell.execute_reply.started": "2022-11-04T18:33:49.196064Z"
    },
    "tags": []
   },
   "outputs": [],
   "source": [
    "def clean_latex(latex_scrape: List[str]) -> str:\n",
    "    if not latex_scrape:\n",
    "        return \"\"\n",
    "    latex_scrape = '\\n'.join(latex_scrape)\n",
    "    return latex_scrape"
   ]
  },
  {
   "cell_type": "code",
   "execution_count": 4,
   "metadata": {
    "execution": {
     "iopub.execute_input": "2022-11-04T18:33:50.946280Z",
     "iopub.status.busy": "2022-11-04T18:33:50.945939Z",
     "iopub.status.idle": "2022-11-04T18:33:50.955605Z",
     "shell.execute_reply": "2022-11-04T18:33:50.955067Z",
     "shell.execute_reply.started": "2022-11-04T18:33:50.946258Z"
    },
    "tags": []
   },
   "outputs": [],
   "source": [
    "# Generator functions that iterate through the file and process/load papers\n",
    "\n",
    "def process(paper: dict):\n",
    "    paper = json.loads(paper)\n",
    "    latex_scrape = ID_TEX.get(paper[\"id\"], None)\n",
    "    if not latex_scrape:\n",
    "        return {}\n",
    "    # Morten: We shouldn't actually need this for recent papers since the year is in the id now\n",
    "    # Morten: But lets keep it as it is\n",
    "    if paper['journal-ref']:\n",
    "        # Attempt to parse the date using Regex: this could be improved\n",
    "        years = [int(year) for year in re.findall(YEAR_PATTERN, paper['journal-ref'])]\n",
    "        years = [year for year in years if (year <= 2022 and year >= 1991)]\n",
    "        year = min(years) if years else None\n",
    "    else:\n",
    "        year = None\n",
    "    return {\n",
    "        'id': paper['id'],\n",
    "        'title': paper['title'],\n",
    "        'year': year,\n",
    "        'authors': paper['authors'],\n",
    "        'categories': ','.join(paper['categories'].split(' ')),\n",
    "        'abstract': paper['abstract'],\n",
    "        'latex_scrape': latex_scrape,\n",
    "        'input': clean_latex(latex_scrape) # input for embedding model\n",
    "    }\n",
    "\n",
    "def papers():\n",
    "    with open(DATA_PATH, 'r') as f:\n",
    "        for paper in f:\n",
    "            paper = process(paper)\n",
    "            # Returns empty dict if we didn't scrape anything\n",
    "            if paper == {}:\n",
    "                continue\n",
    "            # Yield only papers that have a year I could process\n",
    "            if paper['year']:\n",
    "                yield paper\n"
   ]
  },
  {
   "cell_type": "code",
   "execution_count": 5,
   "metadata": {
    "execution": {
     "iopub.execute_input": "2022-11-04T18:33:58.474019Z",
     "iopub.status.busy": "2022-11-04T18:33:58.473642Z",
     "iopub.status.idle": "2022-11-04T18:33:58.483443Z",
     "shell.execute_reply": "2022-11-04T18:33:58.482944Z",
     "shell.execute_reply.started": "2022-11-04T18:33:58.473995Z"
    },
    "tags": []
   },
   "outputs": [
    {
     "data": {
      "text/plain": [
       "{'id': '2001.00001',\n",
       " 'title': 'Quantum GestART: Identifying and Applying Correlations between\\n  Mathematics, Art, and Perceptual Organization',\n",
       " 'year': 2020,\n",
       " 'authors': 'Maria Mannone, Federico Favali, Balandino Di Donato, Luca Turchet',\n",
       " 'categories': 'math.HO,cs.MM',\n",
       " 'abstract': '  Mathematics can help analyze the arts and inspire new artwork. Mathematics\\ncan also help make transformations from one artistic medium to another,\\nconsidering exceptions and choices, as well as artists\\' individual and unique\\ncontributions. We propose a method based on diagrammatic thinking and quantum\\nformalism. We exploit decompositions of complex forms into a set of simple\\nshapes, discretization of complex images, and Dirac notation, imagining a world\\nof \"prototypes\" that can be connected to obtain a fine or coarse-graining\\napproximation of a given visual image. Visual prototypes are exchanged with\\nauditory ones, and the information (position, size) characterizing visual\\nprototypes is connected with the information (onset, duration, loudness, pitch\\nrange) characterizing auditory prototypes. The topic is contextualized within a\\nphilosophical debate (discreteness and comparison of apparently unrelated\\nobjects), it develops through mathematical formalism, and it leads to\\nprogramming, to spark interdisciplinary thinking and ignite creativity within\\nSTEAM.\\n',\n",
       " 'latex_scrape': ['\\\\begin{equation}\\\\label{product}\\n\\\\begin{footnotesize}\\n\\\\begin{diagram}\\n&\\t&&\\t\\t\\\\mbox{X }\\t\\t& &\\\\\\\\\\n&\\t&\\\\ldTo(2,4)^{f_2}&\\\\dTo\\t ^{f}&\\t\\t\\t\\\\rdTo(2,4)^{f_1}\\t& &\\\\\\\\\\n&\\t&&\\t\\t\\tP\\t& &\\\\\\\\\\n&\\t\\t\\t& \\\\ldTo^{p_2}&&\\\\rdTo^{p_1}\\t\\t &  \\\\\\\\\\n&\\t\\t\\tB_2&\\t\\t\\t&\\t& &B_1 &    \\\\\\\\\\n%&\\t&\\\\luTo^{\\\\lambda}\\t\\t&\\t&\\\\ruTo^{\\\\mu}\\t&\\t\\\\\\\\\\n%&\\t\\t&\\t\\t\\t&X_{\\\\kappa}\\t& & &    \\\\\\\\\\n\\\\end{diagram}\\n\\\\end{footnotesize}\\n\\\\end{equation}',\n",
       "  '\\\\begin{equation}\\\\label{diagram_0}\\n\\\\begin{diagram}\\n\\\\mbox{Gestalt (image)} & \\\\rTo^{?} & \\\\mbox{Gestalt (sound)}\\n\\\\\\\\ \\\\uTo^{extraction} \\\\uTo & & \\\\uTo^{extraction} \\\\uTo\\n\\\\\\\\ \\\\mbox{image} & \\\\rTo^{crossmodal} & \\\\mbox{sound} \\n\\\\end{diagram}\\n\\\\end{equation}',\n",
       "  '\\\\begin{equation}\\\\label{gest_1}\\n\\\\begin{diagram}\\n  & & \\\\mbox{gesture}  & &\\n\\\\\\\\ & \\\\ldTo^{generates} & & \\\\rdTo^{generates}\\n\\\\\\\\ \\\\mbox{image} & & \\\\rTo^{similarity} & & \\\\mbox{music}\\n\\\\end{diagram}\\n\\\\end{equation}',\n",
       "  '\\\\begin{equation}\\\\label{uncertainty}\\n\\\\begin{split}\\n&\\\\mbox{(incertitude in finding groups/similarities in visuals)} \\\\\\\\&\\\\times\\\\mbox{(incertitude in finding groups/similarities in music)}\\n\\\\\\\\ &\\\\geq\\\\mbox{(constant)}\\n\\\\end{split}\\n\\\\end{equation}',\n",
       "  '\\\\begin{equation}\\\\label{generator}\\n\\\\begin{tikzcd}\\n\\\\Delta\\n  \\\\arrow[r,bend left=70, \"g_{\\\\phi}\"{name=U, above}] \\n  \\\\arrow[r,bend right=50, \"g^F_{\\\\phi}\"{name=D, below}]  \\n& \\n\\\\vec X\\n\\\\arrow[Rightarrow, from=U, to=D, \"F\"]\\n\\\\end{tikzcd}\\n\\\\end{equation}',\n",
       "  '\\\\begin{equation}\\\\label{eq_1}\\n|\\\\psi^v\\\\rangle \\\\sim \\\\sum_ib_i|\\\\phi_i^v\\\\rangle\\n\\\\end{equation}',\n",
       "  '\\\\begin{equation}\\\\label{eq_2}\\na_i|\\\\phi_i^{sound}\\\\rangle \\\\iff b_i|\\\\phi_i^{visual}\\\\rangle\\n\\\\end{equation}',\n",
       "  '\\\\begin{equation}\\\\label{procedure}\\n|\\\\psi^s\\\\rangle \\\\sim \\\\sum_ia_i|\\\\phi_i^s\\\\rangle = T\\\\left(\\\\sum b_i |\\\\phi_i^v\\\\rangle\\\\right)\\\\sim T(|\\\\psi^v\\\\rangle)\\n\\\\end{equation}',\n",
       "  '\\\\begin{equation}\\\\label{diagram_1}\\n\\\\begin{diagram}\\n\\\\sum_ib_i|\\\\phi_i^v\\\\rangle & \\\\rTo^{\\\\sim} &  |\\\\psi^v\\\\rangle\\n\\\\\\\\ \\\\dTo^T & & \\\\dTo^T\\n\\\\\\\\ T\\\\left(\\\\sum_ib_i|\\\\phi_i^v\\\\rangle\\\\right) & \\\\rTo^{\\\\sim} & T\\\\left( |\\\\psi^v\\\\rangle \\\\right)\\n\\\\\\\\ = & & =\\n\\\\\\\\ \\\\sum_ia_i|\\\\phi_i^s\\\\rangle & \\\\rTo^{\\\\sim} & |\\\\psi^s\\\\rangle\\n\\\\end{diagram}\\n\\\\end{equation}',\n",
       "  '\\\\begin{equation}\\n%|\\\\psi^v\\\\rangle \\\\sim \\\\sum_i^N |\\\\phi_i^v\\\\rangle\\n%\\\\end{equation}',\n",
       "  '\\\\begin{equation}\\\\label{pattern}\\n%|\\\\psi^v\\\\rangle \\\\sim \\\\sum_{i=0}^j |\\\\phi_i^v\\\\rangle \\\\left( \\\\subset \\\\sum_i^N|\\\\phi_i^v\\\\rangle \\\\right)\\n%\\\\end{equation}',\n",
       "  '\\\\begin{equation}\\nT\\\\left( \\\\sum_{i=0}^j|\\\\phi_i^v\\\\rangle \\\\right) = \\\\sum_{i=0}^j|\\\\phi_i^s\\\\rangle\\n\\\\end{equation}',\n",
       "  '\\\\begin{equation}\\nT\\\\left( \\\\sum_{i=j+1}^N|\\\\phi_i^v\\\\rangle \\\\right) = \\\\sum_{i=j+1}^N|\\\\phi_i^s\\\\rangle\\n\\\\end{equation}',\n",
       "  '\\\\begin{equation}\\nT\\\\left( \\\\sum_{i=j+1}^N|\\\\phi_i^v\\\\rangle \\\\right) + T\\\\left( \\\\sum_{i=0}^j|\\\\phi_i^v\\\\rangle \\\\right)\\n\\\\end{equation}',\n",
       "  '\\\\begin{equation}\\n \\\\begin{split}\\n |\\\\psi^v\\\\rangle \\\\sim \\\\sum_{i=0}^Nb_i|\\\\phi_i^v\\\\rangle = & \\\\sum_{i=0}^j b_i|\\\\phi_i^v\\\\rangle + \\\\sum_{i=j+1}^Nb_i|\\\\phi_i^v\\\\rangle\\n  \\\\Rightarrow  T\\\\left(\\\\sum_{i=0}^j b_i|\\\\phi_i^v\\\\rangle\\\\right) + T\\\\left(\\\\sum_{i=j+1}^Nb_i|\\\\phi_i^v\\\\rangle \\\\right)\\n \\\\\\\\ = & T\\\\left(\\\\sum_{i=0}^j b_i|\\\\phi_i^v\\\\rangle + \\\\sum_{i=j+1}^Nb_i|\\\\phi_i^v\\\\rangle \\\\right)\\n = T\\\\left( \\\\sum_{i=0}^Nb_i|\\\\phi_i^v\\\\rangle \\\\right)\\\\sim T(|\\\\psi^v\\\\rangle)\\\\sim |\\\\psi^s\\\\rangle\\n \\\\end{split}\\n \\\\end{equation}',\n",
       "  '\\\\begin{equation}\\\\label{RTF}\\n\\\\begin{diagram}\\n|\\\\psi^s\\\\rangle = RTF|\\\\psi^v\\\\rangle,\\\\,\\\\,\\\\,\\\\,\\\\,|\\\\psi^v\\\\rangle & \\\\rTo^{RTF} & |\\\\psi^s\\\\rangle\\n\\\\end{diagram}\\n\\\\end{equation}',\n",
       "  '\\\\begin{equation}\\\\label{distance}\\n\\\\mathcal{D}\\\\left( \\\\sum_ib_i^{\\\\alpha}|\\\\phi_i^{\\\\alpha,v}\\\\rangle,  \\\\sum_ib_i^{\\\\beta}|\\\\phi_i^{\\\\beta,v}\\\\rangle\\\\right)<\\\\epsilon,\\\\,\\\\,\\\\,\\\\,\\n\\\\mathcal{D}\\\\left( T\\\\left(\\\\sum_ib_i^{\\\\alpha}|\\\\phi_i^{\\\\alpha,v}\\\\rangle\\\\right), T\\\\left( \\\\sum_ib_i^{\\\\beta}|\\\\phi_i^{\\\\beta,v}\\\\rangle\\\\right)\\\\right)<\\\\eta\\n\\\\end{equation}',\n",
       "  '\\\\begin{equation}\\n\\\\langle \\\\phi_i^v|\\\\phi_j^v\\\\rangle = \\\\delta_{i,j},\\n\\\\end{equation}',\n",
       "  \"\\\\begin{equation}\\n\\\\langle \\\\phi_i^v|\\\\phi_{j}^{'v}\\\\rangle = \\\\epsilon_{i,j},\\n\\\\end{equation}\",\n",
       "  \"\\\\begin{equation}\\n(T^{\\\\ast}\\\\langle\\\\phi_i^{v}|)|\\\\phi_{j}^{'s}\\\\rangle=\\\\langle \\\\phi_i^s|\\\\phi_{j}^{s}\\\\rangle = \\\\eta_{i,j},\\n\\\\end{equation}\",\n",
       "  '\\\\begin{equation}\\\\label{gest_diagram}\\n\\\\begin{diagram}\\n  & & \\\\mathcal{G}  & &\\n\\\\\\\\ & \\\\ldTo^{generates} & & \\\\rdTo^{generates}\\n\\\\\\\\ |\\\\phi_i^v\\\\rangle & & \\\\rTo^T & & |\\\\phi_i^s\\\\rangle\\n% \\\\\\\\ |\\\\phi_i^v\\\\rangle & & & & |\\\\phi_i^s\\\\rangle\\n\\\\end{diagram}\\n\\\\end{equation}'],\n",
       " 'input': '\\\\begin{equation}\\\\label{product}\\n\\\\begin{footnotesize}\\n\\\\begin{diagram}\\n&\\t&&\\t\\t\\\\mbox{X }\\t\\t& &\\\\\\\\\\n&\\t&\\\\ldTo(2,4)^{f_2}&\\\\dTo\\t ^{f}&\\t\\t\\t\\\\rdTo(2,4)^{f_1}\\t& &\\\\\\\\\\n&\\t&&\\t\\t\\tP\\t& &\\\\\\\\\\n&\\t\\t\\t& \\\\ldTo^{p_2}&&\\\\rdTo^{p_1}\\t\\t &  \\\\\\\\\\n&\\t\\t\\tB_2&\\t\\t\\t&\\t& &B_1 &    \\\\\\\\\\n%&\\t&\\\\luTo^{\\\\lambda}\\t\\t&\\t&\\\\ruTo^{\\\\mu}\\t&\\t\\\\\\\\\\n%&\\t\\t&\\t\\t\\t&X_{\\\\kappa}\\t& & &    \\\\\\\\\\n\\\\end{diagram}\\n\\\\end{footnotesize}\\n\\\\end{equation}\\n\\\\begin{equation}\\\\label{diagram_0}\\n\\\\begin{diagram}\\n\\\\mbox{Gestalt (image)} & \\\\rTo^{?} & \\\\mbox{Gestalt (sound)}\\n\\\\\\\\ \\\\uTo^{extraction} \\\\uTo & & \\\\uTo^{extraction} \\\\uTo\\n\\\\\\\\ \\\\mbox{image} & \\\\rTo^{crossmodal} & \\\\mbox{sound} \\n\\\\end{diagram}\\n\\\\end{equation}\\n\\\\begin{equation}\\\\label{gest_1}\\n\\\\begin{diagram}\\n  & & \\\\mbox{gesture}  & &\\n\\\\\\\\ & \\\\ldTo^{generates} & & \\\\rdTo^{generates}\\n\\\\\\\\ \\\\mbox{image} & & \\\\rTo^{similarity} & & \\\\mbox{music}\\n\\\\end{diagram}\\n\\\\end{equation}\\n\\\\begin{equation}\\\\label{uncertainty}\\n\\\\begin{split}\\n&\\\\mbox{(incertitude in finding groups/similarities in visuals)} \\\\\\\\&\\\\times\\\\mbox{(incertitude in finding groups/similarities in music)}\\n\\\\\\\\ &\\\\geq\\\\mbox{(constant)}\\n\\\\end{split}\\n\\\\end{equation}\\n\\\\begin{equation}\\\\label{generator}\\n\\\\begin{tikzcd}\\n\\\\Delta\\n  \\\\arrow[r,bend left=70, \"g_{\\\\phi}\"{name=U, above}] \\n  \\\\arrow[r,bend right=50, \"g^F_{\\\\phi}\"{name=D, below}]  \\n& \\n\\\\vec X\\n\\\\arrow[Rightarrow, from=U, to=D, \"F\"]\\n\\\\end{tikzcd}\\n\\\\end{equation}\\n\\\\begin{equation}\\\\label{eq_1}\\n|\\\\psi^v\\\\rangle \\\\sim \\\\sum_ib_i|\\\\phi_i^v\\\\rangle\\n\\\\end{equation}\\n\\\\begin{equation}\\\\label{eq_2}\\na_i|\\\\phi_i^{sound}\\\\rangle \\\\iff b_i|\\\\phi_i^{visual}\\\\rangle\\n\\\\end{equation}\\n\\\\begin{equation}\\\\label{procedure}\\n|\\\\psi^s\\\\rangle \\\\sim \\\\sum_ia_i|\\\\phi_i^s\\\\rangle = T\\\\left(\\\\sum b_i |\\\\phi_i^v\\\\rangle\\\\right)\\\\sim T(|\\\\psi^v\\\\rangle)\\n\\\\end{equation}\\n\\\\begin{equation}\\\\label{diagram_1}\\n\\\\begin{diagram}\\n\\\\sum_ib_i|\\\\phi_i^v\\\\rangle & \\\\rTo^{\\\\sim} &  |\\\\psi^v\\\\rangle\\n\\\\\\\\ \\\\dTo^T & & \\\\dTo^T\\n\\\\\\\\ T\\\\left(\\\\sum_ib_i|\\\\phi_i^v\\\\rangle\\\\right) & \\\\rTo^{\\\\sim} & T\\\\left( |\\\\psi^v\\\\rangle \\\\right)\\n\\\\\\\\ = & & =\\n\\\\\\\\ \\\\sum_ia_i|\\\\phi_i^s\\\\rangle & \\\\rTo^{\\\\sim} & |\\\\psi^s\\\\rangle\\n\\\\end{diagram}\\n\\\\end{equation}\\n\\\\begin{equation}\\n%|\\\\psi^v\\\\rangle \\\\sim \\\\sum_i^N |\\\\phi_i^v\\\\rangle\\n%\\\\end{equation}\\n\\\\begin{equation}\\\\label{pattern}\\n%|\\\\psi^v\\\\rangle \\\\sim \\\\sum_{i=0}^j |\\\\phi_i^v\\\\rangle \\\\left( \\\\subset \\\\sum_i^N|\\\\phi_i^v\\\\rangle \\\\right)\\n%\\\\end{equation}\\n\\\\begin{equation}\\nT\\\\left( \\\\sum_{i=0}^j|\\\\phi_i^v\\\\rangle \\\\right) = \\\\sum_{i=0}^j|\\\\phi_i^s\\\\rangle\\n\\\\end{equation}\\n\\\\begin{equation}\\nT\\\\left( \\\\sum_{i=j+1}^N|\\\\phi_i^v\\\\rangle \\\\right) = \\\\sum_{i=j+1}^N|\\\\phi_i^s\\\\rangle\\n\\\\end{equation}\\n\\\\begin{equation}\\nT\\\\left( \\\\sum_{i=j+1}^N|\\\\phi_i^v\\\\rangle \\\\right) + T\\\\left( \\\\sum_{i=0}^j|\\\\phi_i^v\\\\rangle \\\\right)\\n\\\\end{equation}\\n\\\\begin{equation}\\n \\\\begin{split}\\n |\\\\psi^v\\\\rangle \\\\sim \\\\sum_{i=0}^Nb_i|\\\\phi_i^v\\\\rangle = & \\\\sum_{i=0}^j b_i|\\\\phi_i^v\\\\rangle + \\\\sum_{i=j+1}^Nb_i|\\\\phi_i^v\\\\rangle\\n  \\\\Rightarrow  T\\\\left(\\\\sum_{i=0}^j b_i|\\\\phi_i^v\\\\rangle\\\\right) + T\\\\left(\\\\sum_{i=j+1}^Nb_i|\\\\phi_i^v\\\\rangle \\\\right)\\n \\\\\\\\ = & T\\\\left(\\\\sum_{i=0}^j b_i|\\\\phi_i^v\\\\rangle + \\\\sum_{i=j+1}^Nb_i|\\\\phi_i^v\\\\rangle \\\\right)\\n = T\\\\left( \\\\sum_{i=0}^Nb_i|\\\\phi_i^v\\\\rangle \\\\right)\\\\sim T(|\\\\psi^v\\\\rangle)\\\\sim |\\\\psi^s\\\\rangle\\n \\\\end{split}\\n \\\\end{equation}\\n\\\\begin{equation}\\\\label{RTF}\\n\\\\begin{diagram}\\n|\\\\psi^s\\\\rangle = RTF|\\\\psi^v\\\\rangle,\\\\,\\\\,\\\\,\\\\,\\\\,|\\\\psi^v\\\\rangle & \\\\rTo^{RTF} & |\\\\psi^s\\\\rangle\\n\\\\end{diagram}\\n\\\\end{equation}\\n\\\\begin{equation}\\\\label{distance}\\n\\\\mathcal{D}\\\\left( \\\\sum_ib_i^{\\\\alpha}|\\\\phi_i^{\\\\alpha,v}\\\\rangle,  \\\\sum_ib_i^{\\\\beta}|\\\\phi_i^{\\\\beta,v}\\\\rangle\\\\right)<\\\\epsilon,\\\\,\\\\,\\\\,\\\\,\\n\\\\mathcal{D}\\\\left( T\\\\left(\\\\sum_ib_i^{\\\\alpha}|\\\\phi_i^{\\\\alpha,v}\\\\rangle\\\\right), T\\\\left( \\\\sum_ib_i^{\\\\beta}|\\\\phi_i^{\\\\beta,v}\\\\rangle\\\\right)\\\\right)<\\\\eta\\n\\\\end{equation}\\n\\\\begin{equation}\\n\\\\langle \\\\phi_i^v|\\\\phi_j^v\\\\rangle = \\\\delta_{i,j},\\n\\\\end{equation}\\n\\\\begin{equation}\\n\\\\langle \\\\phi_i^v|\\\\phi_{j}^{\\'v}\\\\rangle = \\\\epsilon_{i,j},\\n\\\\end{equation}\\n\\\\begin{equation}\\n(T^{\\\\ast}\\\\langle\\\\phi_i^{v}|)|\\\\phi_{j}^{\\'s}\\\\rangle=\\\\langle \\\\phi_i^s|\\\\phi_{j}^{s}\\\\rangle = \\\\eta_{i,j},\\n\\\\end{equation}\\n\\\\begin{equation}\\\\label{gest_diagram}\\n\\\\begin{diagram}\\n  & & \\\\mathcal{G}  & &\\n\\\\\\\\ & \\\\ldTo^{generates} & & \\\\rdTo^{generates}\\n\\\\\\\\ |\\\\phi_i^v\\\\rangle & & \\\\rTo^T & & |\\\\phi_i^s\\\\rangle\\n% \\\\\\\\ |\\\\phi_i^v\\\\rangle & & & & |\\\\phi_i^s\\\\rangle\\n\\\\end{diagram}\\n\\\\end{equation}'}"
      ]
     },
     "execution_count": 5,
     "metadata": {},
     "output_type": "execute_result"
    }
   ],
   "source": [
    "# Example\n",
    "next(papers())"
   ]
  },
  {
   "cell_type": "code",
   "execution_count": 6,
   "metadata": {
    "execution": {
     "iopub.execute_input": "2022-11-04T18:34:07.550738Z",
     "iopub.status.busy": "2022-11-04T18:34:07.550361Z",
     "iopub.status.idle": "2022-11-04T18:34:13.261519Z",
     "shell.execute_reply": "2022-11-04T18:34:13.260921Z",
     "shell.execute_reply.started": "2022-11-04T18:34:07.550713Z"
    },
    "tags": []
   },
   "outputs": [],
   "source": [
    "# Load papers into a CuDF\n",
    "cdf = cudf.DataFrame(list(papers()))"
   ]
  },
  {
   "cell_type": "code",
   "execution_count": 7,
   "metadata": {
    "execution": {
     "iopub.execute_input": "2022-11-04T18:34:13.271675Z",
     "iopub.status.busy": "2022-11-04T18:34:13.271260Z",
     "iopub.status.idle": "2022-11-04T18:34:13.275085Z",
     "shell.execute_reply": "2022-11-04T18:34:13.274643Z",
     "shell.execute_reply.started": "2022-11-04T18:34:13.271651Z"
    },
    "tags": []
   },
   "outputs": [
    {
     "data": {
      "text/plain": [
       "31458"
      ]
     },
     "execution_count": 7,
     "metadata": {},
     "output_type": "execute_result"
    }
   ],
   "source": [
    "len(cdf)"
   ]
  },
  {
   "cell_type": "code",
   "execution_count": 8,
   "metadata": {
    "execution": {
     "iopub.execute_input": "2022-11-04T18:34:17.729219Z",
     "iopub.status.busy": "2022-11-04T18:34:17.728845Z",
     "iopub.status.idle": "2022-11-04T18:34:17.745305Z",
     "shell.execute_reply": "2022-11-04T18:34:17.744838Z",
     "shell.execute_reply.started": "2022-11-04T18:34:17.729195Z"
    },
    "tags": []
   },
   "outputs": [
    {
     "data": {
      "text/plain": [
       "2020    15880\n",
       "2021    12257\n",
       "2022     1432\n",
       "2019      757\n",
       "2018      219\n",
       "2017      113\n",
       "2001       84\n",
       "2016       75\n",
       "2011       64\n",
       "2000       62\n",
       "2002       56\n",
       "2015       54\n",
       "2012       46\n",
       "2004       43\n",
       "2006       39\n",
       "2014       39\n",
       "2007       38\n",
       "2005       37\n",
       "2009       35\n",
       "2003       34\n",
       "2013       33\n",
       "2008       32\n",
       "2010       29\n",
       "Name: year, dtype: int32"
      ]
     },
     "execution_count": 8,
     "metadata": {},
     "output_type": "execute_result"
    }
   ],
   "source": [
    "# Morten: apparently some of these are not from 2020? Doesn't sound right.\n",
    "cdf.year.value_counts()"
   ]
  },
  {
   "cell_type": "code",
   "execution_count": 9,
   "metadata": {
    "execution": {
     "iopub.execute_input": "2022-11-04T18:34:19.322990Z",
     "iopub.status.busy": "2022-11-04T18:34:19.322631Z",
     "iopub.status.idle": "2022-11-04T18:34:22.413564Z",
     "shell.execute_reply": "2022-11-04T18:34:22.412971Z",
     "shell.execute_reply.started": "2022-11-04T18:34:19.322965Z"
    },
    "tags": []
   },
   "outputs": [],
   "source": [
    "# Pickle the dataframe to save you time in the future\n",
    "\n",
    "with open('cdf.pkl', 'wb') as f:\n",
    "    pickle.dump(cdf, f)\n",
    "    \n",
    "# Load pickle\n",
    "# with open('cdf.pkl', 'rb') as f:\n",
    "#     cdf = pickle.load(f)"
   ]
  },
  {
   "cell_type": "markdown",
   "metadata": {},
   "source": [
    "## Step 2: Create sentence embeddings\n",
    "Here I use a cookie-cutter -- **out of the box** -- model from HuggingFace to transform papers abstracts + titles into vectors.\n",
    "\n",
    "**This takes a long time**... So best to take a subset. Or use the dask cluster for multi-gpu encoding."
   ]
  },
  {
   "cell_type": "code",
   "execution_count": 10,
   "metadata": {
    "execution": {
     "iopub.execute_input": "2022-11-04T18:34:24.792470Z",
     "iopub.status.busy": "2022-11-04T18:34:24.792086Z",
     "iopub.status.idle": "2022-11-04T18:34:24.799208Z",
     "shell.execute_reply": "2022-11-04T18:34:24.798722Z",
     "shell.execute_reply.started": "2022-11-04T18:34:24.792444Z"
    },
    "tags": []
   },
   "outputs": [],
   "source": [
    "# batch = cdf[:100000].copy()\n",
    "batch = cdf.copy()"
   ]
  },
  {
   "cell_type": "code",
   "execution_count": 11,
   "metadata": {
    "execution": {
     "iopub.execute_input": "2022-11-04T18:34:38.586279Z",
     "iopub.status.busy": "2022-11-04T18:34:38.585905Z",
     "iopub.status.idle": "2022-11-04T18:46:45.146379Z",
     "shell.execute_reply": "2022-11-04T18:46:45.145769Z",
     "shell.execute_reply.started": "2022-11-04T18:34:38.586256Z"
    },
    "tags": []
   },
   "outputs": [
    {
     "data": {
      "application/vnd.jupyter.widget-view+json": {
       "model_id": "d53ad730e27143a68681d545d53b1ed0",
       "version_major": 2,
       "version_minor": 0
      },
      "text/plain": [
       "Batches:   0%|          | 0/492 [00:00<?, ?it/s]"
      ]
     },
     "metadata": {},
     "output_type": "display_data"
    }
   ],
   "source": [
    "from sentence_transformers import SentenceTransformer\n",
    "\n",
    "# Morten: Going to use a smaller model to speed this up\n",
    "# Morten: On second thought that changes the vector length so we need to modify the Redis upload code\n",
    "model = SentenceTransformer('sentence-transformers/all-mpnet-base-v2')\n",
    "# model = SentenceTransformer('sentence-transformers/all-MiniLM-L6-v2')\n",
    "\n",
    "vectors = model.encode(\n",
    "    sentences = batch.input.values_host,\n",
    "    normalize_embeddings = True,\n",
    "    batch_size = 64,\n",
    "    show_progress_bar = True\n",
    ")"
   ]
  },
  {
   "cell_type": "code",
   "execution_count": 12,
   "metadata": {
    "execution": {
     "iopub.execute_input": "2022-11-04T18:46:45.148638Z",
     "iopub.status.busy": "2022-11-04T18:46:45.148337Z",
     "iopub.status.idle": "2022-11-04T18:46:47.327141Z",
     "shell.execute_reply": "2022-11-04T18:46:47.326574Z",
     "shell.execute_reply.started": "2022-11-04T18:46:45.148615Z"
    },
    "tags": []
   },
   "outputs": [],
   "source": [
    "# Vectors created!\n",
    "batch['vector'] = cudf.Series(vectors.tolist(), index=batch.index)"
   ]
  },
  {
   "cell_type": "code",
   "execution_count": 13,
   "metadata": {
    "execution": {
     "iopub.execute_input": "2022-11-04T18:46:47.330344Z",
     "iopub.status.busy": "2022-11-04T18:46:47.330052Z",
     "iopub.status.idle": "2022-11-04T18:46:47.366125Z",
     "shell.execute_reply": "2022-11-04T18:46:47.365686Z",
     "shell.execute_reply.started": "2022-11-04T18:46:47.330322Z"
    },
    "tags": []
   },
   "outputs": [
    {
     "data": {
      "text/html": [
       "<div>\n",
       "<style scoped>\n",
       "    .dataframe tbody tr th:only-of-type {\n",
       "        vertical-align: middle;\n",
       "    }\n",
       "\n",
       "    .dataframe tbody tr th {\n",
       "        vertical-align: top;\n",
       "    }\n",
       "\n",
       "    .dataframe thead th {\n",
       "        text-align: right;\n",
       "    }\n",
       "</style>\n",
       "<table border=\"1\" class=\"dataframe\">\n",
       "  <thead>\n",
       "    <tr style=\"text-align: right;\">\n",
       "      <th></th>\n",
       "      <th>id</th>\n",
       "      <th>title</th>\n",
       "      <th>year</th>\n",
       "      <th>authors</th>\n",
       "      <th>categories</th>\n",
       "      <th>abstract</th>\n",
       "      <th>latex_scrape</th>\n",
       "      <th>input</th>\n",
       "      <th>vector</th>\n",
       "    </tr>\n",
       "  </thead>\n",
       "  <tbody>\n",
       "    <tr>\n",
       "      <th>0</th>\n",
       "      <td>2001.00001</td>\n",
       "      <td>Quantum GestART: Identifying and Applying Corr...</td>\n",
       "      <td>2020</td>\n",
       "      <td>Maria Mannone, Federico Favali, Balandino Di D...</td>\n",
       "      <td>math.HO,cs.MM</td>\n",
       "      <td>Mathematics can help analyze the arts and in...</td>\n",
       "      <td>[\\begin{equation}\\label{product}\\n\\begin{footn...</td>\n",
       "      <td>\\begin{equation}\\label{product}\\n\\begin{footno...</td>\n",
       "      <td>[-0.032643456012010574, -0.021090390160679817,...</td>\n",
       "    </tr>\n",
       "    <tr>\n",
       "      <th>1</th>\n",
       "      <td>2001.00011</td>\n",
       "      <td>Dark Energy and Modified Scale Covariant Theor...</td>\n",
       "      <td>2020</td>\n",
       "      <td>Koijam Manihar Singh, Sanjay Mandal, Longjam P...</td>\n",
       "      <td>gr-qc,hep-th</td>\n",
       "      <td>Taking up four model universes we study the ...</td>\n",
       "      <td>[\\begin{equation}\\n\\label{eqn:1}\\ng_{ij}'=\\phi...</td>\n",
       "      <td>\\begin{equation}\\n\\label{eqn:1}\\ng_{ij}'=\\phi^...</td>\n",
       "      <td>[-0.00736722256988287, -0.031140638515353203, ...</td>\n",
       "    </tr>\n",
       "    <tr>\n",
       "      <th>2</th>\n",
       "      <td>2001.00018</td>\n",
       "      <td>Connecting optical morphology, environment, an...</td>\n",
       "      <td>2020</td>\n",
       "      <td>John F. Wu</td>\n",
       "      <td>astro-ph.GA,astro-ph.IM</td>\n",
       "      <td>A galaxy's morphological features encode det...</td>\n",
       "      <td>[\\begin{equation}\\n    {\\rm RMSE} \\equiv \\sqrt...</td>\n",
       "      <td>\\begin{equation}\\n    {\\rm RMSE} \\equiv \\sqrt{...</td>\n",
       "      <td>[-0.03967193141579628, -0.07747125625610352, 0...</td>\n",
       "    </tr>\n",
       "    <tr>\n",
       "      <th>3</th>\n",
       "      <td>2001.00019</td>\n",
       "      <td>Not all doped Mott insulators have a pseudogap...</td>\n",
       "      <td>2020</td>\n",
       "      <td>Wei Wu, Mathias S. Scheurer, Michel Ferrero, A...</td>\n",
       "      <td>cond-mat.str-el</td>\n",
       "      <td>The Mott insulating phase of the parent comp...</td>\n",
       "      <td>[\\begin{equation}\\n    \\epsilon^{*}_{\\vec{k}} ...</td>\n",
       "      <td>\\begin{equation}\\n    \\epsilon^{*}_{\\vec{k}} =...</td>\n",
       "      <td>[-0.009624576196074486, -0.04841659963130951, ...</td>\n",
       "    </tr>\n",
       "    <tr>\n",
       "      <th>4</th>\n",
       "      <td>2001.00021</td>\n",
       "      <td>Efficient classical simulation of random shall...</td>\n",
       "      <td>2022</td>\n",
       "      <td>John Napp, Rolando L. La Placa, Alexander M. D...</td>\n",
       "      <td>quant-ph,cond-mat.stat-mech,cs.CC</td>\n",
       "      <td>Random quantum circuits are commonly viewed ...</td>\n",
       "      <td>[\\begin{equation} #1 \\end{equation}, \\begin{al...</td>\n",
       "      <td>\\begin{equation} #1 \\end{equation}\\n\\begin{ali...</td>\n",
       "      <td>[-0.02470673806965351, -0.018680408596992493, ...</td>\n",
       "    </tr>\n",
       "  </tbody>\n",
       "</table>\n",
       "</div>"
      ],
      "text/plain": [
       "           id                                              title  year  \\\n",
       "0  2001.00001  Quantum GestART: Identifying and Applying Corr...  2020   \n",
       "1  2001.00011  Dark Energy and Modified Scale Covariant Theor...  2020   \n",
       "2  2001.00018  Connecting optical morphology, environment, an...  2020   \n",
       "3  2001.00019  Not all doped Mott insulators have a pseudogap...  2020   \n",
       "4  2001.00021  Efficient classical simulation of random shall...  2022   \n",
       "\n",
       "                                             authors  \\\n",
       "0  Maria Mannone, Federico Favali, Balandino Di D...   \n",
       "1  Koijam Manihar Singh, Sanjay Mandal, Longjam P...   \n",
       "2                                         John F. Wu   \n",
       "3  Wei Wu, Mathias S. Scheurer, Michel Ferrero, A...   \n",
       "4  John Napp, Rolando L. La Placa, Alexander M. D...   \n",
       "\n",
       "                          categories  \\\n",
       "0                      math.HO,cs.MM   \n",
       "1                       gr-qc,hep-th   \n",
       "2            astro-ph.GA,astro-ph.IM   \n",
       "3                    cond-mat.str-el   \n",
       "4  quant-ph,cond-mat.stat-mech,cs.CC   \n",
       "\n",
       "                                            abstract  \\\n",
       "0    Mathematics can help analyze the arts and in...   \n",
       "1    Taking up four model universes we study the ...   \n",
       "2    A galaxy's morphological features encode det...   \n",
       "3    The Mott insulating phase of the parent comp...   \n",
       "4    Random quantum circuits are commonly viewed ...   \n",
       "\n",
       "                                        latex_scrape  \\\n",
       "0  [\\begin{equation}\\label{product}\\n\\begin{footn...   \n",
       "1  [\\begin{equation}\\n\\label{eqn:1}\\ng_{ij}'=\\phi...   \n",
       "2  [\\begin{equation}\\n    {\\rm RMSE} \\equiv \\sqrt...   \n",
       "3  [\\begin{equation}\\n    \\epsilon^{*}_{\\vec{k}} ...   \n",
       "4  [\\begin{equation} #1 \\end{equation}, \\begin{al...   \n",
       "\n",
       "                                               input  \\\n",
       "0  \\begin{equation}\\label{product}\\n\\begin{footno...   \n",
       "1  \\begin{equation}\\n\\label{eqn:1}\\ng_{ij}'=\\phi^...   \n",
       "2  \\begin{equation}\\n    {\\rm RMSE} \\equiv \\sqrt{...   \n",
       "3  \\begin{equation}\\n    \\epsilon^{*}_{\\vec{k}} =...   \n",
       "4  \\begin{equation} #1 \\end{equation}\\n\\begin{ali...   \n",
       "\n",
       "                                              vector  \n",
       "0  [-0.032643456012010574, -0.021090390160679817,...  \n",
       "1  [-0.00736722256988287, -0.031140638515353203, ...  \n",
       "2  [-0.03967193141579628, -0.07747125625610352, 0...  \n",
       "3  [-0.009624576196074486, -0.04841659963130951, ...  \n",
       "4  [-0.02470673806965351, -0.018680408596992493, ...  "
      ]
     },
     "execution_count": 13,
     "metadata": {},
     "output_type": "execute_result"
    }
   ],
   "source": [
    "batch.head()"
   ]
  },
  {
   "cell_type": "code",
   "execution_count": 14,
   "metadata": {
    "execution": {
     "iopub.execute_input": "2022-11-04T18:46:47.367400Z",
     "iopub.status.busy": "2022-11-04T18:46:47.367064Z",
     "iopub.status.idle": "2022-11-04T18:46:47.369811Z",
     "shell.execute_reply": "2022-11-04T18:46:47.369308Z",
     "shell.execute_reply.started": "2022-11-04T18:46:47.367381Z"
    },
    "tags": []
   },
   "outputs": [],
   "source": [
    "del batch[\"latex_scrape\"]"
   ]
  },
  {
   "cell_type": "code",
   "execution_count": 15,
   "metadata": {
    "execution": {
     "iopub.execute_input": "2022-11-04T18:46:47.370689Z",
     "iopub.status.busy": "2022-11-04T18:46:47.370406Z",
     "iopub.status.idle": "2022-11-04T18:46:48.477889Z",
     "shell.execute_reply": "2022-11-04T18:46:48.477297Z",
     "shell.execute_reply.started": "2022-11-04T18:46:47.370669Z"
    },
    "tags": []
   },
   "outputs": [],
   "source": [
    "# Dump these to file with pickle or write them to Redis\n",
    "# Morten: Since it is a pickle we would have to have cudf where we are loading and that is unlikely\n",
    "# so changing it to a pandas dataframe before saving\n",
    "with open(f'embeddings_{len(batch)}.pkl', 'wb') as f:\n",
    "    pickle.dump(batch.to_pandas(), f)"
   ]
  },
  {
   "cell_type": "code",
   "execution_count": null,
   "metadata": {},
   "outputs": [],
   "source": []
  }
 ],
 "metadata": {
  "kernelspec": {
   "display_name": "saturn (Python 3)",
   "language": "python",
   "name": "python3"
  },
  "language_info": {
   "codemirror_mode": {
    "name": "ipython",
    "version": 3
   },
   "file_extension": ".py",
   "mimetype": "text/x-python",
   "name": "python",
   "nbconvert_exporter": "python",
   "pygments_lexer": "ipython3",
   "version": "3.7.12"
  },
  "vscode": {
   "interpreter": {
    "hash": "31f2aee4e71d21fbe5cf8b01ff0e069b9275f58929596ceb00d14d90e3e16cd6"
   }
  }
 },
 "nbformat": 4,
 "nbformat_minor": 4
}
